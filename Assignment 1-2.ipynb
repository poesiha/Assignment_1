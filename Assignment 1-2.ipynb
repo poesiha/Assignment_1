{
 "cells": [
  {
   "cell_type": "code",
   "execution_count": null,
   "id": "0db2f02c-25cf-48ba-a584-ca5692e7fe16",
   "metadata": {},
   "outputs": [],
   "source": [
    "Assignment - 1\n",
    "Name- Ananya Bhaskar"
   ]
  },
  {
   "cell_type": "code",
   "execution_count": null,
   "id": "86066296-d39e-4722-a045-14d148d36c63",
   "metadata": {},
   "outputs": [],
   "source": [
    "#Q1- Create one variable containing following data type:\n",
    "#(i)string\n",
    "a = \"This is my string\"\n",
    "#(ii)list\n",
    "b = [2,1,2.6327,6+7j,'pwskills',True]\n",
    "#(iii)float\n",
    "c = 425.728\n",
    "#(iv)tuple\n",
    "d = {234,23,'pwskills',54.53,4+5j,True}"
   ]
  },
  {
   "cell_type": "code",
   "execution_count": null,
   "id": "ad72990d-2886-453b-a9d0-d367b2eadc33",
   "metadata": {},
   "outputs": [],
   "source": [
    "#Q2- Given are some following variables containing data:\n",
    "\n",
    "#(i) var1=''\n",
    "ans- type(var1)=str (string)\n",
    "#(ii) var2='[DS,ML,PYTHON]'\n",
    "ans- type(var2)=str (string)\n",
    "#(iii) var3 = ['DS','ML','PYHTON']\n",
    "ans- type(var3)= list\n",
    "#(iv) var4= 1.\n",
    "ans- type(var4)= int(integer)"
   ]
  },
  {
   "cell_type": "code",
   "execution_count": null,
   "id": "7fa95636-2ecc-4700-9f82-5b24e6fc4a4a",
   "metadata": {},
   "outputs": [],
   "source": [
    "#Q3- Explain the use of following operators using an example:\n",
    "\n",
    "#(i) / -\n",
    "ans- / is used as a classic division operator and it is used to divide numbers,\n",
    "for example- 5/ 2 = 2.5\n",
    "\n",
    "#(ii) % -\n",
    "ans- % is called as the modulo operator and it returns the remainder of dividing the left hand operand by right hand operand,\n",
    "for example- 15% 4 = 3\n",
    "\n",
    "#(iii) // -\n",
    "ans- // is used as a floor division operator and it is used to divide numbers and give the answer in interger only,\n",
    "for example- 5/ 2 = 2\n",
    "\n",
    "#(iv) ** -\n",
    "ans- ** is called as the exponential operator and it is used to raise the number on the left to the power of the exponent of the right,\n",
    "for example- 5**3 = 125"
   ]
  },
  {
   "cell_type": "code",
   "execution_count": 1,
   "id": "380c209f-4a5b-4896-83bd-9ae47b36fdcf",
   "metadata": {},
   "outputs": [
    {
     "name": "stdout",
     "output_type": "stream",
     "text": [
      "1 <class 'int'>\n",
      "23.4 <class 'float'>\n",
      "(6+5j) <class 'complex'>\n",
      "ananya <class 'str'>\n",
      "True <class 'bool'>\n",
      "23 <class 'int'>\n",
      "pwskills <class 'str'>\n",
      "False <class 'bool'>\n",
      "54.34 <class 'float'>\n",
      "879 <class 'int'>\n",
      "(4+8j) <class 'complex'>\n"
     ]
    }
   ],
   "source": [
    "#Q4- Create a list of length 10 of your choice containing multiple types of data. Using for loop, print the element and its data type.\n",
    "#ans-\n",
    "\n",
    "l = [1,23.4,6+5j,'ananya', True,23,'pwskills',False,54.34,879,4+8j]\n",
    "for i in l:\n",
    "    print(i, type(i))"
   ]
  },
  {
   "cell_type": "code",
   "execution_count": 2,
   "id": "87ff4781-8bc0-4235-9c86-0273c9dee547",
   "metadata": {},
   "outputs": [
    {
     "name": "stdout",
     "output_type": "stream",
     "text": [
      "Number is not divisible by 3\n",
      "Number is divisible by 3\n",
      "Number is divisible by 3\n",
      "Number is divisible by 3\n",
      "Number is divisible by 3\n",
      "Number is divisible by 3\n",
      "Number is divisible by 3\n",
      "Number is divisible by 3\n",
      "Number is divisible by 3\n",
      "Number is divisible by 3\n",
      "Number is not divisible by 3\n",
      "Number is not divisible by 3\n",
      "Number is divisible by 3\n",
      "Number is divisible by 3\n",
      "Number is not divisible by 3\n",
      "Number is not divisible by 3\n",
      "Number is not divisible by 3\n",
      "Number is not divisible by 3\n",
      "Number is not divisible by 3\n",
      "Number is divisible by 3\n",
      "Number is divisible by 3\n",
      "Number is not divisible by 3\n",
      "Number is divisible by 3\n",
      "Number is not divisible by 3\n",
      "Number is not divisible by 3\n"
     ]
    }
   ],
   "source": [
    "#Q6- Create a list containing 25 int type data. Using for loop and if-else condition print if the element is divisible by 3 or not.\n",
    "#ans-\n",
    "\n",
    "l = [23,24,3,75,45,9,27,15,54,6,52,29,33,63,55,34,88,62,136,60,93,89,42,8654,32]\n",
    "for i in l:\n",
    "    if i % 3 == 0:\n",
    "        print('Number is divisible by 3')\n",
    "    else:\n",
    "        print('Number is not divisible by 3')"
   ]
  },
  {
   "cell_type": "code",
   "execution_count": null,
   "id": "f987204f-e650-4228-8682-3573a9dff41b",
   "metadata": {},
   "outputs": [],
   "source": [
    "#Q7- What do ou understand about mutable and immutable data types? Give examples for both showing this property.\n",
    "\n",
    "Ans- \n",
    "> Mutable data type- Mutable data refers to a database structure in which data can be changed.\n",
    "Any data changes made simply overwrite and replace the previous record.\n",
    "This means that previous iterations of data are lost unless there is a system of\n",
    "back-ups and transaction logs that track changes.\n",
    "\n",
    "For example- lists, dictionaries, and sets are mutable.\n",
    "\n",
    "> Immutable data type- Immutable data types are those, whose values cannot be modified once they are created.\n",
    "For example- integer, string, boolian, float, tuple etc"
   ]
  }
 ],
 "metadata": {
  "kernelspec": {
   "display_name": "Python 3 (ipykernel)",
   "language": "python",
   "name": "python3"
  },
  "language_info": {
   "codemirror_mode": {
    "name": "ipython",
    "version": 3
   },
   "file_extension": ".py",
   "mimetype": "text/x-python",
   "name": "python",
   "nbconvert_exporter": "python",
   "pygments_lexer": "ipython3",
   "version": "3.10.8"
  }
 },
 "nbformat": 4,
 "nbformat_minor": 5
}
