{
 "cells": [
  {
   "cell_type": "code",
   "execution_count": null,
   "id": "1c84e00e-65b3-49a2-94f7-ec508cbc63cd",
   "metadata": {},
   "outputs": [],
   "source": [
    "Assignment - 2\n",
    "Name- Ananya Bhaskar"
   ]
  },
  {
   "cell_type": "code",
   "execution_count": null,
   "id": "76444d5b-7e86-4060-8dbe-355e9bf03d0b",
   "metadata": {},
   "outputs": [],
   "source": [
    "#Q1- How do you comment code in python? What are the different types of comments?\n",
    "\n",
    "Ans- Comments in python are identified with a hash symbol, #, and extend to the end of the line.\n",
    "There are three types of comments: single-line, multi-line, and docstring comment"
   ]
  },
  {
   "cell_type": "code",
   "execution_count": null,
   "id": "2031c5bf-32de-48a7-8e2d-6b562d8b2786",
   "metadata": {},
   "outputs": [],
   "source": [
    "#Q2- What are variables in python? How do you declare and assign values in variables.\n",
    "\n",
    "Ans- A Python variable is a symbolic name that is a reference or pointer to an object.\n",
    "Once an object is assigned to a variable, you can refer to the object by that name.\n",
    "But the data itself is still contained within the object.\n",
    "Value is assigned to a a variable with the help of '=' equals to operator.\n",
    "For example- \n",
    "a = 200\n",
    "where a is a variable."
   ]
  },
  {
   "cell_type": "code",
   "execution_count": null,
   "id": "ea5391da-6f98-46f8-85e0-438c46ef7061",
   "metadata": {},
   "outputs": [],
   "source": [
    "#Q3- How do you convert one data type to another in pyhton?\n",
    "\n",
    "Ans- To convert between types, you simply use the type name as a function.\n",
    "There are several built-in functions to perform conversion from one data type to another.\n",
    "These functions return a new object representing the converted value.\n",
    "\n",
    "for example-\n",
    "\n",
    "s= 2,3,4,5\n",
    "list(s)\n",
    "[2,3,4,5]\n",
    "str(s)\n",
    "'(2, 3, 4, 5)'\n",
    "bool(s)\n",
    "True\n"
   ]
  },
  {
   "cell_type": "code",
   "execution_count": null,
   "id": "ffb9cb19-44f9-4984-9e85-23cee3810e96",
   "metadata": {},
   "outputs": [],
   "source": [
    "#Q4- How do you write and execute a python script from the command line?\n",
    "\n",
    "Ans- To run Python scripts with the python command, you need to open a command-line\n",
    "and type in the word python , or python3 if you have both versions, followed by the path to your script.\n",
    "\n",
    "For example- ke this: python first_script.py Hello World!\n",
    "Then you hit the ENTER button from the keyboard, and that's it."
   ]
  },
  {
   "cell_type": "code",
   "execution_count": 9,
   "id": "54992f3f-f9f1-4d4d-9c3e-6c1de65c99bd",
   "metadata": {},
   "outputs": [],
   "source": [
    "#Q5- Given a list my_list = [1,2,3,4,5], write the code to slice the list and obtain the sub list [2,3]\n",
    "#Ans-\n",
    "\n",
    "my_list= [1,2,3,4,5]\n",
    "new_list= my_list[1:3]"
   ]
  },
  {
   "cell_type": "code",
   "execution_count": 10,
   "id": "a1e4b9b6-2fd0-437f-892b-00629031ecc5",
   "metadata": {},
   "outputs": [
    {
     "data": {
      "text/plain": [
       "[2, 3]"
      ]
     },
     "execution_count": 10,
     "metadata": {},
     "output_type": "execute_result"
    }
   ],
   "source": [
    "new_list"
   ]
  },
  {
   "cell_type": "code",
   "execution_count": null,
   "id": "dda49a42-408d-4ea6-a2e0-0e59cdeeb1d5",
   "metadata": {},
   "outputs": [],
   "source": [
    "#Q6- What is a complex number in mathematics, and how it is represented in python?\n",
    "\n",
    "Ans- Complex numbers are the numbers that are expressed in the form of a+ib where,\n",
    "a,b are real numbers and 'i' is an imaginary number called “iota”.\n",
    "The value of i = (√-1). For example, 2+3i is a complex number, where 2 is a real number\n",
    "(Re) and 3i is an imaginary number (Im).\n",
    "\n",
    "In python, complex number are expressed with the help on an imaginary number 'j'\n",
    "For example- 5+6j (j is the imaginary number here while 5 and 6 are real numbers)"
   ]
  },
  {
   "cell_type": "code",
   "execution_count": null,
   "id": "efd23267-062d-42af-be04-ab871a20e737",
   "metadata": {},
   "outputs": [],
   "source": [
    "#Q7- What is the correct way tto declare a variable age and assign the vlue 25 to it?\n",
    "\n",
    "Ans- \n",
    "1- Create a variable with the name 'age'\n",
    "2- Assign the value with the help of = operator\n",
    "\n",
    "For example- \n",
    "age = 25"
   ]
  },
  {
   "cell_type": "code",
   "execution_count": 6,
   "id": "c8662b4f-79da-45da-9575-4ee84aa38ff9",
   "metadata": {},
   "outputs": [
    {
     "data": {
      "text/plain": [
       "float"
      ]
     },
     "execution_count": 6,
     "metadata": {},
     "output_type": "execute_result"
    }
   ],
   "source": [
    "#Q8- Declare a variable named price and assign the value 9.99 to it. What data type does this variable belong to?\n",
    "\n",
    "#Ans- \n",
    "\n",
    "price= 9.99\n",
    "type(price)\n",
    "\n",
    "#float"
   ]
  },
  {
   "cell_type": "code",
   "execution_count": 4,
   "id": "424c1110-b5f1-4e32-9374-b846a3d2a28d",
   "metadata": {},
   "outputs": [
    {
     "name": "stdout",
     "output_type": "stream",
     "text": [
      "Ananya Bhaskar\n"
     ]
    }
   ],
   "source": [
    "#Q9- Create a variable named name and assign your full name to it as a string. How would you print the value of this variable?\n",
    "\n",
    "#Ans-\n",
    "\n",
    "Name= 'Ananya Bhaskar'\n",
    "print(Name)\n",
    "\n",
    "#Output- Ananya Bhaskar\n",
    "\n",
    "#We can print the value with the help of function print."
   ]
  },
  {
   "cell_type": "code",
   "execution_count": 5,
   "id": "d571896e-d5cc-4df5-8e28-61bd14be3888",
   "metadata": {},
   "outputs": [
    {
     "data": {
      "text/plain": [
       "'World'"
      ]
     },
     "execution_count": 5,
     "metadata": {},
     "output_type": "execute_result"
    }
   ],
   "source": [
    "#Q10- Given the string \"Hello, World!\", extract the substring \"World\".\n",
    "\n",
    "#Ans- \n",
    "\n",
    "s= 'Hello, World!'\n",
    "s[7:12]"
   ]
  },
  {
   "cell_type": "code",
   "execution_count": 1,
   "id": "3ae185fc-aa03-4a29-9b0b-8f53daf2aa1f",
   "metadata": {},
   "outputs": [],
   "source": [
    "#Q11- Create a variable named \"is_student\" and assign it a boolean value indicating wheather you are currently a student or not.\n",
    "\n",
    "is_student = True"
   ]
  },
  {
   "cell_type": "code",
   "execution_count": 2,
   "id": "7dbf4b85-e48a-438a-9b42-a4199e5beace",
   "metadata": {},
   "outputs": [
    {
     "data": {
      "text/plain": [
       "bool"
      ]
     },
     "execution_count": 2,
     "metadata": {},
     "output_type": "execute_result"
    }
   ],
   "source": [
    "type(is_student)"
   ]
  },
  {
   "cell_type": "code",
   "execution_count": null,
   "id": "36aaf4e1-279d-45ab-a6aa-f53cbf0b6483",
   "metadata": {},
   "outputs": [],
   "source": []
  }
 ],
 "metadata": {
  "kernelspec": {
   "display_name": "Python 3 (ipykernel)",
   "language": "python",
   "name": "python3"
  },
  "language_info": {
   "codemirror_mode": {
    "name": "ipython",
    "version": 3
   },
   "file_extension": ".py",
   "mimetype": "text/x-python",
   "name": "python",
   "nbconvert_exporter": "python",
   "pygments_lexer": "ipython3",
   "version": "3.10.8"
  }
 },
 "nbformat": 4,
 "nbformat_minor": 5
}
